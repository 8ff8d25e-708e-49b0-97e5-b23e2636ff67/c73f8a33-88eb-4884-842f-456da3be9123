{
 "cells": [
  {
   "cell_type": "code",
   "execution_count": 1,
   "id": "initial_id",
   "metadata": {
    "collapsed": true,
    "ExecuteTime": {
     "end_time": "2025-07-06T06:04:26.087927Z",
     "start_time": "2025-07-06T06:04:25.390423Z"
    }
   },
   "outputs": [],
   "source": [
    "import pandas as pd\n"
   ]
  },
  {
   "cell_type": "code",
   "execution_count": 2,
   "outputs": [],
   "source": [
    "df = pd.read_json('./wp5277.json')\n",
    "df = pd.json_normalize(df['entitiesById'])\n",
    "df.drop(columns=['drawAs', 'fill', 'points', 'stroke', 'strokeWidth', 'zIndex', 'fontFamily', 'fontSize', 'fontStyle', 'fontWeight', 'height', 'lineHeight', 'overflow', 'padding', 'textAlign', 'textDecoration', 'textOverflow', 'verticalAlign', 'whiteSpace', 'width', 'x', 'y', 'rx', 'ry', 'attachmentDisplay.offset', 'attachmentDisplay.position', 'contains', 'fillOpacity', 'strokeDasharray', 'citations', 'isPartOf'], inplace=True)\n",
    "df = df[df['gpmlElementName'] != 'PublicationXref'] \n",
    "df = df[df['gpmlElementName'] != 'openControlledVocabulary'] \n",
    "df = df[df['gpmlElementName'].notnull()] \n"
   ],
   "metadata": {
    "collapsed": false,
    "ExecuteTime": {
     "end_time": "2025-07-06T06:04:26.102923Z",
     "start_time": "2025-07-06T06:04:26.088772Z"
    }
   },
   "id": "a237a53355b66ef0"
  },
  {
   "cell_type": "code",
   "outputs": [
    {
     "data": {
      "text/plain": "       id                          textContent xrefIdentifier\n7   ab7f9                      Isoprogesterone   LMST02030299\n22  b872c                          Cholesterol   LMST01010001\n23  ba0ac                         Progesterone   LMST02030159\n42  d23e6  3alpha-hydroxy-5beta-pregnan-20-one   LMST02030175\n45  d6a61            5beta-pregnane-3,20-dione   LMST02030146\n46  d7455                         Pregnanediol   LMST02030264\n49  dbb10           Pregnanediol-3-glucuronide   LMST05010073\n56  e43d7                        Pregnenetriol   LMST02030263\n65  ec77a               11-deoxycorticosterone   LMST02030087\n66  eea0d          20alpha-Hydroxyprogesterone   LMST02030169\n67  efcee         20R,22R-dihydroxycholesterol   LMST01010200\n72  f2eec               22R-Hydroxycholesterol   LMST01010086\n74  f4277          17alpha-hydroxyprogesterone   LMST02030161\n78  f5961                     11-deoxycortisol   LMST02030086\n79  f5ff5          17alpha-hydroxypregnenolone   LMST02030089\n80  fa278                         Pregnenolone   LMST02030088\n81  fbb9b           5alpha-pregnane-3,20-dione   LMST02030170\n83  fc6b7                         Pregnenediol   LMST02030205\n85  fe015                     Allopregnanolone   LMST02030130",
      "text/html": "<div>\n<style scoped>\n    .dataframe tbody tr th:only-of-type {\n        vertical-align: middle;\n    }\n\n    .dataframe tbody tr th {\n        vertical-align: top;\n    }\n\n    .dataframe thead th {\n        text-align: right;\n    }\n</style>\n<table border=\"1\" class=\"dataframe\">\n  <thead>\n    <tr style=\"text-align: right;\">\n      <th></th>\n      <th>id</th>\n      <th>textContent</th>\n      <th>xrefIdentifier</th>\n    </tr>\n  </thead>\n  <tbody>\n    <tr>\n      <th>7</th>\n      <td>ab7f9</td>\n      <td>Isoprogesterone</td>\n      <td>LMST02030299</td>\n    </tr>\n    <tr>\n      <th>22</th>\n      <td>b872c</td>\n      <td>Cholesterol</td>\n      <td>LMST01010001</td>\n    </tr>\n    <tr>\n      <th>23</th>\n      <td>ba0ac</td>\n      <td>Progesterone</td>\n      <td>LMST02030159</td>\n    </tr>\n    <tr>\n      <th>42</th>\n      <td>d23e6</td>\n      <td>3alpha-hydroxy-5beta-pregnan-20-one</td>\n      <td>LMST02030175</td>\n    </tr>\n    <tr>\n      <th>45</th>\n      <td>d6a61</td>\n      <td>5beta-pregnane-3,20-dione</td>\n      <td>LMST02030146</td>\n    </tr>\n    <tr>\n      <th>46</th>\n      <td>d7455</td>\n      <td>Pregnanediol</td>\n      <td>LMST02030264</td>\n    </tr>\n    <tr>\n      <th>49</th>\n      <td>dbb10</td>\n      <td>Pregnanediol-3-glucuronide</td>\n      <td>LMST05010073</td>\n    </tr>\n    <tr>\n      <th>56</th>\n      <td>e43d7</td>\n      <td>Pregnenetriol</td>\n      <td>LMST02030263</td>\n    </tr>\n    <tr>\n      <th>65</th>\n      <td>ec77a</td>\n      <td>11-deoxycorticosterone</td>\n      <td>LMST02030087</td>\n    </tr>\n    <tr>\n      <th>66</th>\n      <td>eea0d</td>\n      <td>20alpha-Hydroxyprogesterone</td>\n      <td>LMST02030169</td>\n    </tr>\n    <tr>\n      <th>67</th>\n      <td>efcee</td>\n      <td>20R,22R-dihydroxycholesterol</td>\n      <td>LMST01010200</td>\n    </tr>\n    <tr>\n      <th>72</th>\n      <td>f2eec</td>\n      <td>22R-Hydroxycholesterol</td>\n      <td>LMST01010086</td>\n    </tr>\n    <tr>\n      <th>74</th>\n      <td>f4277</td>\n      <td>17alpha-hydroxyprogesterone</td>\n      <td>LMST02030161</td>\n    </tr>\n    <tr>\n      <th>78</th>\n      <td>f5961</td>\n      <td>11-deoxycortisol</td>\n      <td>LMST02030086</td>\n    </tr>\n    <tr>\n      <th>79</th>\n      <td>f5ff5</td>\n      <td>17alpha-hydroxypregnenolone</td>\n      <td>LMST02030089</td>\n    </tr>\n    <tr>\n      <th>80</th>\n      <td>fa278</td>\n      <td>Pregnenolone</td>\n      <td>LMST02030088</td>\n    </tr>\n    <tr>\n      <th>81</th>\n      <td>fbb9b</td>\n      <td>5alpha-pregnane-3,20-dione</td>\n      <td>LMST02030170</td>\n    </tr>\n    <tr>\n      <th>83</th>\n      <td>fc6b7</td>\n      <td>Pregnenediol</td>\n      <td>LMST02030205</td>\n    </tr>\n    <tr>\n      <th>85</th>\n      <td>fe015</td>\n      <td>Allopregnanolone</td>\n      <td>LMST02030130</td>\n    </tr>\n  </tbody>\n</table>\n</div>"
     },
     "execution_count": 3,
     "metadata": {},
     "output_type": "execute_result"
    }
   ],
   "source": [
    "df_nodes = df[df['gpmlElementName'] == 'DataNode'].dropna(axis=1, how='all')\n",
    "df_nodes = df_nodes[df_nodes['wpType'] != 'Pathway']\n",
    "df_nodes = df_nodes[df_nodes['wpType'] != 'GeneProduct']\n",
    "df_nodes.drop(columns=['gpmlElementName', 'kaavioType', 'type', 'xrefDataSource', 'wpType'], inplace=True)\n",
    "\n",
    "df_nodes\n",
    "# df_nodes['type']"
   ],
   "metadata": {
    "collapsed": false,
    "ExecuteTime": {
     "end_time": "2025-07-06T06:04:26.501773Z",
     "start_time": "2025-07-06T06:04:26.494330Z"
    }
   },
   "id": "7b5f29883411f8",
   "execution_count": 3
  },
  {
   "cell_type": "code",
   "outputs": [
    {
     "data": {
      "text/plain": "   isAttachedTo     id\n0         fde6c  c7978\n3         eea0d  ba0ac\n4         f478b  c6124\n5         e9ae8  f26a2\n12        ba0ac  ab7f9\n13        e6dc5  e6e69\n16        dbb10  d7455\n19        f5324  e8890\n20        c169c  c6124\n25        d265c  ce42b\n26        f4277  f5ff5\n27        a452a  f5961\n28        f1673  d658f\n31        f5961  f4277\n32        a5fdb  b356e\n33        f2eec  b872c\n37        d1113  e8890\n40        fe015  fbb9b\n43        ab7f9  fa278\n47        af5d8  ce42b\n48        fc6b7  fa278\n50        bcf8e  ce42b\n51        c52b9  e9c6f\n53        ec50f  fc254\n54        cb048  ec77a\n55        fbb9b  ba0ac\n57        e41a9  d0e58\n58        fa278  efcee\n61        f4277  ba0ac\n64        d6a61  ba0ac\n70        f5ff5  fa278\n73        d7455  d23e6\n75        ec77a  ba0ac\n76        d23e6  d6a61\n84        efcee  f2eec\n86        e43d7  f5ff5",
      "text/html": "<div>\n<style scoped>\n    .dataframe tbody tr th:only-of-type {\n        vertical-align: middle;\n    }\n\n    .dataframe tbody tr th {\n        vertical-align: top;\n    }\n\n    .dataframe thead th {\n        text-align: right;\n    }\n</style>\n<table border=\"1\" class=\"dataframe\">\n  <thead>\n    <tr style=\"text-align: right;\">\n      <th></th>\n      <th>isAttachedTo</th>\n      <th>id</th>\n    </tr>\n  </thead>\n  <tbody>\n    <tr>\n      <th>0</th>\n      <td>fde6c</td>\n      <td>c7978</td>\n    </tr>\n    <tr>\n      <th>3</th>\n      <td>eea0d</td>\n      <td>ba0ac</td>\n    </tr>\n    <tr>\n      <th>4</th>\n      <td>f478b</td>\n      <td>c6124</td>\n    </tr>\n    <tr>\n      <th>5</th>\n      <td>e9ae8</td>\n      <td>f26a2</td>\n    </tr>\n    <tr>\n      <th>12</th>\n      <td>ba0ac</td>\n      <td>ab7f9</td>\n    </tr>\n    <tr>\n      <th>13</th>\n      <td>e6dc5</td>\n      <td>e6e69</td>\n    </tr>\n    <tr>\n      <th>16</th>\n      <td>dbb10</td>\n      <td>d7455</td>\n    </tr>\n    <tr>\n      <th>19</th>\n      <td>f5324</td>\n      <td>e8890</td>\n    </tr>\n    <tr>\n      <th>20</th>\n      <td>c169c</td>\n      <td>c6124</td>\n    </tr>\n    <tr>\n      <th>25</th>\n      <td>d265c</td>\n      <td>ce42b</td>\n    </tr>\n    <tr>\n      <th>26</th>\n      <td>f4277</td>\n      <td>f5ff5</td>\n    </tr>\n    <tr>\n      <th>27</th>\n      <td>a452a</td>\n      <td>f5961</td>\n    </tr>\n    <tr>\n      <th>28</th>\n      <td>f1673</td>\n      <td>d658f</td>\n    </tr>\n    <tr>\n      <th>31</th>\n      <td>f5961</td>\n      <td>f4277</td>\n    </tr>\n    <tr>\n      <th>32</th>\n      <td>a5fdb</td>\n      <td>b356e</td>\n    </tr>\n    <tr>\n      <th>33</th>\n      <td>f2eec</td>\n      <td>b872c</td>\n    </tr>\n    <tr>\n      <th>37</th>\n      <td>d1113</td>\n      <td>e8890</td>\n    </tr>\n    <tr>\n      <th>40</th>\n      <td>fe015</td>\n      <td>fbb9b</td>\n    </tr>\n    <tr>\n      <th>43</th>\n      <td>ab7f9</td>\n      <td>fa278</td>\n    </tr>\n    <tr>\n      <th>47</th>\n      <td>af5d8</td>\n      <td>ce42b</td>\n    </tr>\n    <tr>\n      <th>48</th>\n      <td>fc6b7</td>\n      <td>fa278</td>\n    </tr>\n    <tr>\n      <th>50</th>\n      <td>bcf8e</td>\n      <td>ce42b</td>\n    </tr>\n    <tr>\n      <th>51</th>\n      <td>c52b9</td>\n      <td>e9c6f</td>\n    </tr>\n    <tr>\n      <th>53</th>\n      <td>ec50f</td>\n      <td>fc254</td>\n    </tr>\n    <tr>\n      <th>54</th>\n      <td>cb048</td>\n      <td>ec77a</td>\n    </tr>\n    <tr>\n      <th>55</th>\n      <td>fbb9b</td>\n      <td>ba0ac</td>\n    </tr>\n    <tr>\n      <th>57</th>\n      <td>e41a9</td>\n      <td>d0e58</td>\n    </tr>\n    <tr>\n      <th>58</th>\n      <td>fa278</td>\n      <td>efcee</td>\n    </tr>\n    <tr>\n      <th>61</th>\n      <td>f4277</td>\n      <td>ba0ac</td>\n    </tr>\n    <tr>\n      <th>64</th>\n      <td>d6a61</td>\n      <td>ba0ac</td>\n    </tr>\n    <tr>\n      <th>70</th>\n      <td>f5ff5</td>\n      <td>fa278</td>\n    </tr>\n    <tr>\n      <th>73</th>\n      <td>d7455</td>\n      <td>d23e6</td>\n    </tr>\n    <tr>\n      <th>75</th>\n      <td>ec77a</td>\n      <td>ba0ac</td>\n    </tr>\n    <tr>\n      <th>76</th>\n      <td>d23e6</td>\n      <td>d6a61</td>\n    </tr>\n    <tr>\n      <th>84</th>\n      <td>efcee</td>\n      <td>f2eec</td>\n    </tr>\n    <tr>\n      <th>86</th>\n      <td>e43d7</td>\n      <td>f5ff5</td>\n    </tr>\n  </tbody>\n</table>\n</div>"
     },
     "execution_count": 13,
     "metadata": {},
     "output_type": "execute_result"
    }
   ],
   "source": [
    "df_edges = df[df['gpmlElementName'] == 'Interaction'].dropna(axis=1, how='all')\n",
    "df_edges.drop(columns=['id','gpmlElementName', 'kaavioType', 'markerEnd', 'type', 'xrefDataSource', 'xrefIdentifier', 'burrs', 'comments'], inplace=True)\n",
    "df_edges[['id','isAttachedTo']] = pd.DataFrame(df_edges['isAttachedTo'].tolist(),index=df_edges.index)\n",
    "\n",
    "df_edges"
   ],
   "metadata": {
    "collapsed": false,
    "ExecuteTime": {
     "end_time": "2025-07-06T06:10:19.657427Z",
     "start_time": "2025-07-06T06:10:19.628904Z"
    }
   },
   "id": "5a1ff652797d441c",
   "execution_count": 13
  },
  {
   "cell_type": "code",
   "outputs": [],
   "source": [
    "df_edges = df[df['gpmlElementName'] == 'Interaction'].dropna(axis=1, how='all')\n",
    "df_edges.drop(columns=['gpmlElementName', 'kaavioType', 'markerEnd', 'type', 'xrefDataSource', 'xrefIdentifier', 'burrs', 'comments'], inplace=True)\n",
    "df_edges = df_edges.explode('isAttachedTo', ignore_index=True)\n",
    "\n",
    "df_edges.to_csv('precursor-edges.csv', index=False)"
   ],
   "metadata": {
    "collapsed": false,
    "ExecuteTime": {
     "end_time": "2025-07-06T06:12:09.089501Z",
     "start_time": "2025-07-06T06:12:09.053848Z"
    }
   },
   "id": "fd49863cf26e75b2",
   "execution_count": 14
  },
  {
   "cell_type": "code",
   "outputs": [],
   "source": [],
   "metadata": {
    "collapsed": false
   },
   "id": "4e09f2ba3b053fa8"
  }
 ],
 "metadata": {
  "kernelspec": {
   "display_name": "Python 3",
   "language": "python",
   "name": "python3"
  },
  "language_info": {
   "codemirror_mode": {
    "name": "ipython",
    "version": 2
   },
   "file_extension": ".py",
   "mimetype": "text/x-python",
   "name": "python",
   "nbconvert_exporter": "python",
   "pygments_lexer": "ipython2",
   "version": "2.7.6"
  }
 },
 "nbformat": 4,
 "nbformat_minor": 5
}
